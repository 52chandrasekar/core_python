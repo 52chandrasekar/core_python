{
  "nbformat": 4,
  "nbformat_minor": 0,
  "metadata": {
    "colab": {
      "provenance": []
    },
    "kernelspec": {
      "name": "python3",
      "display_name": "Python 3"
    },
    "language_info": {
      "name": "python"
    }
  },
  "cells": [
    {
      "cell_type": "markdown",
      "source": [
        "#what is LCM"
      ],
      "metadata": {
        "id": "hIHGuiPOIIk5"
      }
    },
    {
      "cell_type": "markdown",
      "source": [
        "Find and list multiples of each number until the first common multiple is found. This is the lowest common multiple.\n",
        "\n",
        "Multiples of 12:\n",
        "12, 24, 36, 48, **60**, 72, 84\n",
        "\n",
        "Multiples of 15:\n",
        "15, 30, 45, **60**, 75, 90\n",
        "\n",
        "Therefore,\n",
        "\n",
        "LCM(12, 15) = **60**\n"
      ],
      "metadata": {
        "id": "pkHCMe3YIwXH"
      }
    },
    {
      "cell_type": "markdown",
      "source": [
        "#python programming"
      ],
      "metadata": {
        "id": "jG84cSsFJDYr"
      }
    },
    {
      "cell_type": "code",
      "execution_count": 3,
      "metadata": {
        "colab": {
          "base_uri": "https://localhost:8080/"
        },
        "id": "FKiZesHcGE_y",
        "outputId": "752f0d38-d427-494e-ed09-a38796d4b2af"
      },
      "outputs": [
        {
          "output_type": "stream",
          "name": "stdout",
          "text": [
            " enter the value :12\n",
            " enter the value :15\n",
            "L.C.M of  12 15 is 60\n"
          ]
        }
      ],
      "source": [
        "#WRITE A PYTHON FUNCTION TO FIND LCM.\n",
        "# fisrt create the function\n",
        "def lcm(x,y):\n",
        "# find the greater number\n",
        "  if (x>y):\n",
        "    greater=x\n",
        "  else:\n",
        "    greater=y\n",
        "# create the infinite while loop\n",
        "  while (True):\n",
        "    if(greater%x==0 and greater%y ==0):\n",
        "      lcm = greater\n",
        "# we check if both the numbers perfectly divide our number,break from the loop\n",
        "      break\n",
        "    greater+=1\n",
        "#incremented by 1 and the loop continues.\n",
        "  return lcm\n",
        "#generator two number\n",
        "s1=int(input(\" enter the value :\"))\n",
        "s2=int(input(\" enter the value :\"))\n",
        "result=lcm(s1,s2)\n",
        "#print the result\n",
        "print(\"L.C.M of \",s1,s2,\"is\",result)"
      ]
    }
  ]
}