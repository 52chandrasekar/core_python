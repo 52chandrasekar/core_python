{
  "nbformat": 4,
  "nbformat_minor": 0,
  "metadata": {
    "colab": {
      "provenance": [],
      "authorship_tag": "ABX9TyMboGa472D9jwyP3nlZSNrQ",
      "include_colab_link": true
    },
    "kernelspec": {
      "name": "python3",
      "display_name": "Python 3"
    },
    "language_info": {
      "name": "python"
    }
  },
  "cells": [
    {
      "cell_type": "markdown",
      "metadata": {
        "id": "view-in-github",
        "colab_type": "text"
      },
      "source": [
        "<a href=\"https://colab.research.google.com/github/52chandrasekar/core_python/blob/main/Simple_Interest.ipynb\" target=\"_parent\"><img src=\"https://colab.research.google.com/assets/colab-badge.svg\" alt=\"Open In Colab\"/></a>"
      ]
    },
    {
      "cell_type": "markdown",
      "source": [
        "#What is Simple Interest?"
      ],
      "metadata": {
        "id": "mgqOFjX3m2Wd"
      }
    },
    {
      "cell_type": "markdown",
      "source": [
        "Simple interest is interest that is only calculated on the initial sum (the \"principal\") borrowed or deposited. Generally, simple interest is set as a fixed percentage for the duration of a loan. No matter how often simple interest is calculated, it only applies to this original principal amount. In other words, future interest payments won't be affected by previously accrued interest."
      ],
      "metadata": {
        "id": "WjoMgNFUm5Yy"
      }
    },
    {
      "cell_type": "markdown",
      "source": [
        "#Simple Interest Formula\n"
      ],
      "metadata": {
        "id": "l2KAUJnQnE52"
      }
    },
    {
      "cell_type": "code",
      "source": [
        "#Simple Interest = Principal Amount × Interest Rate × Time/100\n"
      ],
      "metadata": {
        "id": "9Gs1S_zwnKDD"
      },
      "execution_count": null,
      "outputs": []
    },
    {
      "cell_type": "code",
      "source": [
        "'''\n",
        "P = Principal amount or the original balance\n",
        "r = Annual interest rate\n",
        "t = Loan term in years\n",
        "'''"
      ],
      "metadata": {
        "id": "3-dKSFKgnjpd"
      },
      "execution_count": null,
      "outputs": []
    },
    {
      "cell_type": "code",
      "source": [
        "# Driver code\n",
        "p=int(input(\"Enter the principal amount :\"))\n",
        "r=int(input(\"Enter the rate of interest %:\"))\n",
        "t=float(input(\"Enter the time period :\"))\n",
        "\n",
        "#Simple Interest Formula\n",
        "simple_interest=(p*r*t)/100\n",
        "\n",
        "print('Interest Earned ',simple_interest)"
      ],
      "metadata": {
        "colab": {
          "base_uri": "https://localhost:8080/"
        },
        "id": "81s4oJ-KnSBr",
        "outputId": "20bdc4df-5369-4627-af19-3a31483cd4fc"
      },
      "execution_count": 8,
      "outputs": [
        {
          "output_type": "stream",
          "name": "stdout",
          "text": [
            "Enter the principal amount :10000\n",
            "Enter the rate of interest %:15\n",
            "Enter the time period :2\n",
            "Interest Earned  3000.0\n"
          ]
        }
      ]
    }
  ]
}