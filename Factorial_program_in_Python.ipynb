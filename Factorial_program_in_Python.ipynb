{
  "nbformat": 4,
  "nbformat_minor": 0,
  "metadata": {
    "colab": {
      "provenance": []
    },
    "kernelspec": {
      "name": "python3",
      "display_name": "Python 3"
    },
    "language_info": {
      "name": "python"
    }
  },
  "cells": [
    {
      "cell_type": "markdown",
      "source": [
        "# what is Factorial"
      ],
      "metadata": {
        "id": "iLVqnbMzZ3DA"
      }
    },
    {
      "cell_type": "markdown",
      "source": [
        "Factorial of a non-negative integer, is multiplication of all integers smaller than or equal to n.\n"
      ],
      "metadata": {
        "id": "sjgkoSw2aKTQ"
      }
    },
    {
      "cell_type": "markdown",
      "source": [
        "**For example factorial of 7 is 7x6x5x4x3x2x1 which is = 5048.**"
      ],
      "metadata": {
        "id": "mFPTYdLieJOE"
      }
    },
    {
      "cell_type": "markdown",
      "source": [
        "##factorial program in python\n"
      ],
      "metadata": {
        "id": "SiznBvsseuYP"
      }
    },
    {
      "cell_type": "code",
      "execution_count": null,
      "metadata": {
        "id": "UxrgliedY0YY"
      },
      "outputs": [],
      "source": [
        "#Find the Factorial of a Number Using Iterative approach"
      ]
    },
    {
      "cell_type": "code",
      "source": [
        "#create the object run time input\n",
        "n=int(input(\"Enter The Factorial:\"))\n",
        "#create the temporary object value 1\n",
        "factorial=1\n",
        "#create conditional statements\n",
        "if n < 0:\n",
        "   print(\" Factorial does not exist for negative numbers\")\n",
        "elif n == 0:\n",
        "   print(\"The factorial of 0 is 1\")\n",
        "else:\n",
        "#we use for loop and range() function to calculate the factorial.\n",
        "  for i in range(1,n+1):\n",
        "    factorial*=i\n",
        "  print(\"factorial of \", n ,\"is \",factorial)"
      ],
      "metadata": {
        "colab": {
          "base_uri": "https://localhost:8080/"
        },
        "id": "Dt70Xf4FbDCE",
        "outputId": "ac02cb46-a73b-436c-dcec-573a7b1305b2"
      },
      "execution_count": 39,
      "outputs": [
        {
          "output_type": "stream",
          "name": "stdout",
          "text": [
            "Enter The Factorial:4\n",
            "factorial of  4 is  24\n"
          ]
        }
      ]
    }
  ]
}